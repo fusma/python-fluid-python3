{
 "cells": [
  {
   "cell_type": "code",
   "execution_count": 47,
   "metadata": {},
   "outputs": [
    {
     "name": "stdout",
     "output_type": "stream",
     "text": [
      "[Errno 2] No such file or directory: 'src'\n",
      "/src\n"
     ]
    }
   ],
   "source": [
    "import sys\n",
    "import numpy as np\n",
    "from solver import vel_step, dens_step\n",
    "import matplotlib.pyplot as plt\n",
    "%cd src\n"
   ]
  },
  {
   "cell_type": "code",
   "execution_count": 48,
   "metadata": {},
   "outputs": [],
   "source": [
    "\n",
    "# ますの数\n",
    "N = 50\n",
    "size = N + 2\n",
    "\n",
    "dt = 0.1\n",
    "# 拡散項\n",
    "diff = 0\n",
    "# 粘性係数\n",
    "visc = 0.01\n",
    "# 力の固定値\n",
    "force = 50.0\n",
    "source = 100.0\n",
    "dvel = False\n",
    "\n",
    "win_x = 512\n",
    "win_y = 512\n",
    "\n",
    "#tmp_pos_x,y から pos_x,y に移動するときにu,v を変更している\n",
    "tmp_pos_x = 0.0\n",
    "tmp_pos_y = 0.0\n",
    "pos_x = 0.0\n",
    "pos_y = 0.0\n",
    "mouse_down = [False, False, False]\n",
    "\n",
    "\"\"\" Start with two grids.\n",
    "One that contains the density values from the previous time step and one that\n",
    "will contain the new values. For each grid cell of the latter we trace the\n",
    "cell's center position backwards through the velocity field. We then linearly\n",
    "interpolate from the grid of previous density values and assign this value to\n",
    "the current grid cell.\n",
    "\"\"\"\n",
    "#横速度\n",
    "u = np.zeros((size, size), np.float64)  # velocity\n",
    "u_prev = np.zeros((size, size), np.float64)\n",
    "#縦速度\n",
    "v = np.zeros((size, size), np.float64)  # velocity\n",
    "v_prev = np.zeros((size, size), np.float64)\n",
    "#密度\n",
    "dens = np.zeros((size, size), np.float64)  # density\n",
    "dens_prev = np.zeros((size, size), np.float64)"
   ]
  },
  {
   "cell_type": "code",
   "execution_count": 49,
   "metadata": {},
   "outputs": [],
   "source": [
    "#指定された方向にフリックするプログラム\n",
    "\n",
    "def clear_data():\n",
    "    \"\"\"clear_data.\"\"\"\n",
    "\n",
    "    global u, v, u_prev, v_prev, dens, dens_prev, size\n",
    "\n",
    "    u[0:size, 0:size] = 0.0\n",
    "    v[0:size, 0:size] = 0.0\n",
    "    u_prev[0:size, 0:size] = 0.0\n",
    "    v_prev[0:size, 0:size] = 0.0\n",
    "    dens[0:size, 0:size] = 0.0\n",
    "    dens_prev[0:size, 0:size] = 0.0\n",
    "\n",
    "\n",
    "def move(d, u, v, prev_x, prev_y, x, y):\n",
    "    \"\"\"状況のアップデート\"\"\"\n",
    "\n",
    "    # d,u,vの初期化\n",
    "    d[0:size, 0:size] = 0.0\n",
    "    u[0:size, 0:size] = 0.0\n",
    "    v[0:size, 0:size] = 0.0\n",
    "\n",
    "    dx = x - prev_x\n",
    "    dy = y - prev_y\n",
    "\n",
    "    #流入も移動もない場合，そもそも関数が呼ばれない\n",
    "\n",
    "    # 更新する座標を選択\n",
    "    if x < 1 or x > N or y < 1 or y > N:\n",
    "        return\n",
    "\n",
    "    move = True\n",
    "    pour = True\n",
    "    if move:\n",
    "        u[x, y] = force * (dx)\n",
    "        v[x, y] = force * (-dy)\n",
    "\n",
    "    if pour:\n",
    "        d[x, y] = source\n",
    "\n"
   ]
  },
  {
   "cell_type": "code",
   "execution_count": 50,
   "metadata": {},
   "outputs": [],
   "source": [
    "def calc_init_vec(dx,dy,v=1):\n",
    "    #長さ1の，xとyを求める\n",
    "    if dx==0:\n",
    "        return(0,2)\n",
    "\n",
    "    tan = dy/dx\n",
    "    rad = np.arctan2(dy,dx)\n",
    "    ex = np.cos(rad) * v\n",
    "    ey = np.sin(rad) * v\n",
    "    \n",
    "    return (ex,ey)\n",
    "\n",
    "\n",
    "\n",
    "def main():\n",
    "    route = [(1,1),(10,10),(30,2),(40,40)]\n",
    "    l = len(route)\n",
    "    #時間を固定\n",
    "    timestep = 20\n",
    "    cnt = 0\n",
    "    for i in range(l-1):\n",
    "        start_x,start_y = route[i]\n",
    "        goal_x,goal_y = route[i + 1]\n",
    "        dx = goal_x - start_x\n",
    "        dy = goal_y - start_y\n",
    "        route_len = np.sqrt((start_x - goal_x) ** 2 + (start_y - goal_y) ** 2)\n",
    "        step_len = route_len / timestep\n",
    "        step_vec = calc_init_vec(dx,dy,step_len)\n",
    "        cur_x = start_x\n",
    "        cur_y = start_y\n",
    "        for j in range(timestep):\n",
    "            cnt += 1\n",
    "            new_x = cur_x + step_vec[0]\n",
    "            new_y = cur_y + step_vec[1]\n",
    "            move(dens, u_prev, v_prev,int(cur_x),int(cur_y),int(new_x),int(new_y)) \n",
    "            vel_step(N, u, v, u_prev, v_prev, visc, dt)\n",
    "            dens_step(N, dens, dens_prev, u, v, diff, dt)\n",
    "            cur_x = new_x\n",
    "            cur_y = new_y\n",
    "            #densの値を2倍\n",
    "            display_dens = dens * 2\n",
    "            #グレースケールとして扱い，表示\n",
    "            plt.imshow(display_dens, cmap='gray')\n",
    "            plt.savefig(f'res/dens{cnt:02d}.png')\n",
    "\n",
    "\n",
    "        "
   ]
  },
  {
   "cell_type": "code",
   "execution_count": 51,
   "metadata": {},
   "outputs": [
    {
     "data": {
      "image/png": "[encoded data removed]",
      "text/plain": [
       "<Figure size 640x480 with 1 Axes>"
      ]
     },
     "metadata": {},
     "output_type": "display_data"
    }
   ],
   "source": [
    "\n",
    "\n",
    "if __name__ == '__main__':\n",
    "    clear_data()\n",
    "    main()\n"
   ]
  },
  {
   "cell_type": "code",
   "execution_count": 52,
   "metadata": {},
   "outputs": [
    {
     "name": "stderr",
     "output_type": "stream",
     "text": [
      "UsageError: Line magic function `%ffmpeg` not found.\n"
     ]
    }
   ],
   "source": [
    "#ffmpegで動画にする\n",
    "%ffmpeg -r 10 -i dens%d.png -vcodec libx264 -crf 25  -pix_fmt yuv420p out.mp4"
   ]
  }
 ],
 "metadata": {
  "kernelspec": {
   "display_name": "Python 3.9.12 ('base')",
   "language": "python",
   "name": "python3"
  },
  "language_info": {
   "codemirror_mode": {
    "name": "ipython",
    "version": 3
   },
   "file_extension": ".py",
   "mimetype": "text/x-python",
   "name": "python",
   "nbconvert_exporter": "python",
   "pygments_lexer": "ipython3",
   "version": "3.9.12"
  },
  "orig_nbformat": 4,
  "vscode": {
   "interpreter": {
    "hash": "c25c9adb5d7ff0449036451c8d19821597d30a2c4ca819d70a42be0d0e333df7"
   }
  }
 },
 "nbformat": 4,
 "nbformat_minor": 2
}
