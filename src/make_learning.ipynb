{
 "cells": [
  {
   "cell_type": "code",
   "execution_count": 249,
   "metadata": {},
   "outputs": [],
   "source": [
    "from multiprocessing import Pool\n",
    "from multiprocessing import Process\n"
   ]
  },
  {
   "cell_type": "code",
   "execution_count": 250,
   "metadata": {},
   "outputs": [
    {
     "name": "stdout",
     "output_type": "stream",
     "text": [
      "[WinError 2] 指定されたファイルが見つかりません。: 'src'\n",
      "c:\\Users\\Dette\\Desktop\\python-fluid-python3\\src\n"
     ]
    }
   ],
   "source": [
    "import sys\n",
    "import numpy as np\n",
    "from solver import vel_step, dens_step\n",
    "import matplotlib.pyplot as plt\n",
    "import pandas as pd\n",
    "from IPython.display import clear_output\n",
    "import os\n",
    "\n",
    "%cd src\n"
   ]
  },
  {
   "cell_type": "code",
   "execution_count": 251,
   "metadata": {},
   "outputs": [],
   "source": [
    "\n",
    "# ますの数\n",
    "N = 50\n",
    "size = N + 2\n",
    "\n",
    "dt = 0.1\n",
    "# 拡散項\n",
    "diff = 0.0001\n",
    "# 粘性係数\n",
    "visc = 0.005\n",
    "# 力の固定値\n",
    "force = 20.0\n",
    "source = 150.0\n",
    "\n",
    "#tmp_pos_x,y から pos_x,y に移動するときにu,v を変更している\n",
    "tmp_pos_x = 0.0\n",
    "tmp_pos_y = 0.0\n",
    "pos_x = 0.0\n",
    "pos_y = 0.0\n",
    "mouse_down = [False, False, False]\n",
    "\n",
    "\"\"\" Start with two grids.\n",
    "One that contains the density values from the previous time step and one that\n",
    "will contain the new values. For each grid cell of the latter we trace the\n",
    "cell's center position backwards through the velocity field. We then linearly\n",
    "interpolate from the grid of previous density values and assign this value to\n",
    "the current grid cell.\n",
    "\"\"\"\n",
    "#横速度\n",
    "u = np.zeros((size, size), np.float64)  # velocity\n",
    "u_prev = np.zeros((size, size), np.float64)\n",
    "#縦速度\n",
    "v = np.zeros((size, size), np.float64)  # velocity\n",
    "v_prev = np.zeros((size, size), np.float64)\n",
    "#密度\n",
    "dens = np.zeros((size, size), np.float64)  # density\n",
    "dens_prev = np.zeros((size, size), np.float64)"
   ]
  },
  {
   "cell_type": "code",
   "execution_count": 252,
   "metadata": {},
   "outputs": [],
   "source": [
    "#指定された方向にフリックするプログラム\n",
    "\n",
    "def clear_data():\n",
    "    \"\"\"clear_data.\"\"\"\n",
    "\n",
    "    global u, v, u_prev, v_prev, dens, dens_prev, size\n",
    "\n",
    "    u[0:size, 0:size] = 0.0\n",
    "    v[0:size, 0:size] = 0.0\n",
    "    u_prev[0:size, 0:size] = 0.0\n",
    "    v_prev[0:size, 0:size] = 0.0\n",
    "    dens[0:size, 0:size] = 0.0\n",
    "    dens_prev[0:size, 0:size] = 0.0\n",
    "\n",
    "\n",
    "def move(d, u, v, prev_x, prev_y, x, y):\n",
    "    \"\"\"状況のアップデート\"\"\"\n",
    "\n",
    "    # d,u,vの初期化\n",
    "    d[0:size, 0:size] = 0.0\n",
    "    u[0:size, 0:size] = 0.0\n",
    "    v[0:size, 0:size] = 0.0\n",
    "\n",
    "    dx = x - prev_x\n",
    "    dy = y - prev_y\n",
    "\n",
    "    #流入も移動もない場合，そもそも関数が呼ばれない\n",
    "\n",
    "    # 更新する座標を選択\n",
    "    if x < 1 or x > N or y < 1 or y > N:\n",
    "        return\n",
    "\n",
    "    move = True\n",
    "    pour = True\n",
    "    if move:\n",
    "        wave_size = 2\n",
    "        for delta_x in range(1-wave_size, wave_size-1):\n",
    "            newx = x + delta_x\n",
    "            for delta_y in range(1-wave_size, wave_size-1):\n",
    "                newy = y + delta_y\n",
    "                if newx > 1 and newx < N and newy > 1 and newy < N:\n",
    "                    u[newx, newy] = force * (dx)\n",
    "                    #TODO -dyに戻す\n",
    "                    v[newx, newy] = -force * (dy)\n",
    "    if pour:\n",
    "        d[x, y] += source\n",
    "        wave_size = 2\n",
    "        #3マス四方が領域内であれば\n",
    "        for delta_x in range(1-wave_size, wave_size-1):\n",
    "            newx = x + delta_x\n",
    "            for delta_y in range(1-wave_size, wave_size-1):\n",
    "                newy = y + delta_y\n",
    "                if newx > 1 and newx < N and newy > 1 and newy < N:\n",
    "                    d[newx, newy] += source\n",
    "            \n"
   ]
  },
  {
   "cell_type": "code",
   "execution_count": 253,
   "metadata": {},
   "outputs": [],
   "source": [
    "def calc_init_vec(dx,dy,v=1):\n",
    "    #長さ1の，xとyを求める\n",
    "    if dx==0:\n",
    "        return(0,2)\n",
    "\n",
    "    tan = dy/dx\n",
    "    rad = np.arctan2(dy,dx)\n",
    "    ex = np.cos(rad) * v\n",
    "    ey = np.sin(rad) * v\n",
    "    \n",
    "    return (ex,ey)\n",
    "\n",
    "def create_picture(dens,filename):\n",
    "    # densの値を2倍\n",
    "    display_dens = dens * 2\n",
    "    # グレースケールとして扱い，表示\n",
    "    plt.imshow(display_dens, cmap='gray')\n",
    "    #cntがintならば\n",
    "    plt.savefig(filename)\n",
    "\n",
    "\n",
    "def save_csv(route,res):\n",
    "    global df\n",
    "    # display_densを一次元配列に\n",
    "    res_row = res.flatten()\n",
    "    # routeを一次元配列に\n",
    "    res_route = np.array(route).flatten()\n",
    "    # routeを付け足して，dataframeにする\n",
    "    res = np.concatenate([res_route, res_row])\n",
    "    # dfに書き込む\n",
    "    df = df.append(pd.Series(res), ignore_index=True)\n",
    "\n",
    "\n",
    "\n",
    "\n",
    "def simulate(route,write_down=False,write_all=False):\n",
    "    global df\n",
    "    #経路の情報を受け取り，シミュレーション結果を返す\n",
    "    l = len(route)\n",
    "    #時間を固定\n",
    "    timestep = 30\n",
    "    cnt = 0\n",
    "    #ソルバを初期化\n",
    "    clear_data()\n",
    "    \n",
    "    for i in (0,2):\n",
    "        start_x,start_y = route[i]\n",
    "        goal_x,goal_y = route[i + 1]\n",
    "        dx = goal_x - start_x\n",
    "        dy = goal_y - start_y\n",
    "        route_len = np.sqrt((start_x - goal_x) ** 2 + (start_y - goal_y) ** 2)\n",
    "        step_len = route_len / timestep\n",
    "        step_vec = calc_init_vec(dx,dy,step_len)\n",
    "        cur_x = start_x\n",
    "        cur_y = start_y\n",
    "        for j in range(timestep):\n",
    "            cnt += 1\n",
    "            new_x = cur_x + step_vec[0]\n",
    "            new_y = cur_y + step_vec[1]\n",
    "            print(f\"\\r {new_x},{new_y}\",end=\"\")\n",
    "            move(dens_prev, u_prev, v_prev,int(cur_x),int(cur_y),int(new_x),int(new_y)) \n",
    "            vel_step(N, u, v, u_prev, v_prev, visc, dt)\n",
    "            dens_step(N, dens, dens_prev, u, v, diff, dt)\n",
    "            cur_x = new_x\n",
    "            cur_y = new_y\n",
    "            if write_all:\n",
    "                filename = f\"res/{write_all}/dens{cnt:03d}.png\"\n",
    "                create_picture(dens,filename)\n",
    "                #1行消して，print\n",
    "                print(f\"\\r{cnt} done\",end=\"\")\n",
    "        #100timestep待つ\n",
    "        if i == 12:\n",
    "            break\n",
    "        for j in range(timestep):\n",
    "            cnt += 1\n",
    "            vel_step(N, u, v, u_prev, v_prev, visc, dt)\n",
    "            dens_step(N, dens, dens_prev, u, v, diff, dt)\n",
    "            display_dens = dens\n",
    "            if write_all:\n",
    "                filename = f\"res/{write_all}/dens{cnt:03d}.png\"\n",
    "                create_picture(dens,filename)\n",
    "                #1行消して，print\n",
    "                print(f\"\\r{cnt} done\",end=\"\")\n",
    "\n",
    "    save_csv(route,dens)\n",
    "    if write_down and not write_all:\n",
    "        if type(write_down) == int:\n",
    "            filename = f'res/number/dens{cnt:03d}.png'\n",
    "        else:\n",
    "            filepath = f'res/final/dens{cnt:03d}.png'\n",
    "\n",
    "        #write_downにはcntが入っている\n",
    "        create_picture(dens,write_down)\n",
    "\n",
    "\n",
    "    \n",
    "\n",
    "        "
   ]
  },
  {
   "cell_type": "code",
   "execution_count": 254,
   "metadata": {},
   "outputs": [],
   "source": [
    "\n",
    "df = pd.DataFrame()\n",
    "\n",
    "def main():\n",
    "    np.random.seed(0)\n",
    "    num = 1000\n",
    "    print(\"[calibration]\")\n",
    "    for i in range(num):\n",
    "        clear_data()\n",
    "        #経路をランダム生成\n",
    "        route = np.random.randint(1, N, (4, 2))\n",
    "        if i%10 == 0:\n",
    "            simulate(route,write_down=str(i))\n",
    "        else:\n",
    "            simulate(route)\n",
    "        #1行消す\n",
    "        clear_output(wait=True)\n",
    "        print(f\"done {i+1}/{num}\")\n",
    "    df.to_csv('test3.csv')\n",
    "\n",
    "\n",
    "def create_sample(foldername):\n",
    "    np.random.seed(3)\n",
    "    route = np.random.randint(1, N, (4, 2))\n",
    "    simulate(route,write_down='sample',write_all=foldername)\n"
   ]
  },
  {
   "cell_type": "code",
   "execution_count": 255,
   "metadata": {},
   "outputs": [
    {
     "name": "stdout",
     "output_type": "stream",
     "text": [
      "120 done99999999996,10.999999999999986"
     ]
    },
    {
     "name": "stderr",
     "output_type": "stream",
     "text": [
      "C:\\Users\\Dette\\AppData\\Local\\Temp\\ipykernel_20812\\3196859032.py:31: FutureWarning: The frame.append method is deprecated and will be removed from pandas in a future version. Use pandas.concat instead.\n",
      "  df = df.append(pd.Series(res), ignore_index=True)\n"
     ]
    },
    {
     "data": {
      "image/png": "[encoded data removed]",
      "text/plain": [
       "<Figure size 640x480 with 1 Axes>"
      ]
     },
     "metadata": {},
     "output_type": "display_data"
    }
   ],
   "source": [
    "#foldernameのフォルダがなければ作る\n",
    "def create_folder(foldername):\n",
    "    if not os.path.exists(f\"res/{foldername}\"):\n",
    "        os.makedirs(f\"res/{foldername}\")\n",
    "\n",
    "foldername = \"six\"\n",
    "#\n",
    "create_folder(foldername)\n",
    "create_sample(foldername)\n",
    "#main()"
   ]
  },
  {
   "cell_type": "code",
   "execution_count": 256,
   "metadata": {},
   "outputs": [
    {
     "name": "stdout",
     "output_type": "stream",
     "text": [
      "3\n",
      "[[43 25]\n",
      " [ 4  9]\n",
      " [ 1 22]\n",
      " [20 11]]\n"
     ]
    }
   ],
   "source": [
    "for i in range(1,100):\n",
    "    np.random.seed(i)\n",
    "    route = np.random.randint(1, N, (4, 2))\n",
    "    #route[0]とroute[1]の距離\n",
    "    d1 = np.sqrt((route[0][0] - route[1][0]) ** 2 + (route[0][1] - route[1][1]) ** 2)\n",
    "    #route[2]とroute[3]の距離\n",
    "    d2 = np.sqrt((route[2][0] - route[3][0]) ** 2 + (route[2][1] - route[3][1]) ** 2)\n",
    "    if d1 > 10 and d2 > 10:\n",
    "        print(i)\n",
    "        break\n",
    "print(route)"
   ]
  }
 ],
 "metadata": {
  "kernelspec": {
   "display_name": "soturon",
   "language": "python",
   "name": "python3"
  },
  "language_info": {
   "codemirror_mode": {
    "name": "ipython",
    "version": 3
   },
   "file_extension": ".py",
   "mimetype": "text/x-python",
   "name": "python",
   "nbconvert_exporter": "python",
   "pygments_lexer": "ipython3",
   "version": "3.10.2"
  },
  "orig_nbformat": 4,
  "vscode": {
   "interpreter": {
    "hash": "ee786c526721bbce9e63e1da4cfab52b3e2151d0cb70578f4f93324897d70c1c"
   }
  }
 },
 "nbformat": 4,
 "nbformat_minor": 2
}
