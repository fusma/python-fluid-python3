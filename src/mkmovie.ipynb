{
 "cells": [
  {
   "cell_type": "code",
   "execution_count": 25,
   "metadata": {},
   "outputs": [
    {
     "name": "stdout",
     "output_type": "stream",
     "text": [
      "[WinError 2] 指定されたファイルが見つかりません。: 'src'\n",
      "c:\\Users\\Dette\\Desktop\\python-fluid-python3\\src\n"
     ]
    }
   ],
   "source": [
    "import sys\n",
    "import numpy as np\n",
    "from simulator import *\n",
    "import matplotlib.pyplot as plt\n",
    "import pandas as pd\n",
    "from IPython.display import clear_output\n",
    "import os\n",
    "%cd src\n"
   ]
  },
  {
   "cell_type": "code",
   "execution_count": 26,
   "metadata": {},
   "outputs": [],
   "source": [
    "\n",
    "def main(x=\"\", seed=0):\n",
    "    i = -1\n",
    "    #ソルバの初期化\n",
    "    print(f\"シード{i}での処理を開始します\")\n",
    "    N = 30\n",
    "    sim = simulator(N)\n",
    "    np.random.seed(seed)\n",
    "    #動画作成\n",
    "    num = 1\n",
    "    config = {\n",
    "        \"write_all\": \"検証用0119\",\n",
    "        \"write_down\": False\n",
    "    }\n",
    "    for i in range(num):\n",
    "        sim.clear_data()\n",
    "        #経路をランダム生成\n",
    "        route = np.random.randint(1, N, (4, 2))\n",
    "        #route = [[4,15],[16 ,7],[23,17], [2,30 ]]\n",
    "        route = [[8.796271, 14.828531],\n",
    "                 [14.980984, 15.985916],\n",
    "                 [15.929797, 17.130184],\n",
    "                 [12.311274, 21.55907]]\n",
    "        print(route)\n",
    "        if i%10 == 0:\n",
    "            sim.simulate(route,config[\"write_down\"],config[\"write_all\"])\n",
    "        else:\n",
    "            sim.simulate(route)\n",
    "        print(f\"done {i+1}/{num}\")\n",
    "    filename = f\"tmp_{x}.csv\"\n",
    "    sim.create_csv(filename)\n",
    "    print(\"saved as \" + filename)\n",
    "    print(f\"シード{i}での処理が終了しました\")\n",
    "    return i\n",
    "\n",
    "\n"
   ]
  },
  {
   "cell_type": "code",
   "execution_count": 27,
   "metadata": {},
   "outputs": [
    {
     "name": "stdout",
     "output_type": "stream",
     "text": [
      "シード-1での処理を開始します\n",
      "got super better\n",
      "[[8.796271, 14.828531], [14.980984, 15.985916], [15.929797, 17.130184], [12.311274, 21.55907]]\n",
      "start_x = 8.796271, goal_x = 14.980984\n",
      "dx = 6.184712999999999 dy = 1.1573849999999997\n",
      "(0.9829368600143799, 0.18394327719455097)\n",
      "0.0366117480412853\n",
      "1 done0.07849877878799048\n",
      "2 done0.12646423093807013\n",
      "3 done0.18155843486076823\n",
      "4 done0.2445122335910435\n",
      "5 done0.31618949943704167\n",
      "6 done0.34972680726372407\n",
      "7 done0.3862999470307546\n",
      "8 done0.4263773004504179\n",
      "9 done0.47041340482668714\n",
      "10 done0.51882077974769\n",
      "11 donestart_x = 15.929797, goal_x = 12.311274\n",
      "dx = -3.6185230000000015 dy = 4.4288859999999985\n",
      "(-0.6327023255621187, 0.7743950976267133)\n",
      "0.6110808377975412\n",
      "12 done0.7147432115274239\n",
      "13 done0.8321402371355691\n",
      "14 done0.9616406119355105\n",
      "15 done1.1051001949580528\n",
      "16 donedone 1/1\n",
      "saved as tmp_.csv\n",
      "シード0での処理が終了しました\n"
     ]
    },
    {
     "name": "stderr",
     "output_type": "stream",
     "text": [
      "c:\\Users\\Dette\\Desktop\\python-fluid-python3\\src\\simulator.py:150: FutureWarning: The frame.append method is deprecated and will be removed from pandas in a future version. Use pandas.concat instead.\n",
      "  self.df = self.df.append(pd.Series(res), ignore_index=True)\n"
     ]
    },
    {
     "data": {
      "image/png": "[encoded data removed]",
      "text/plain": [
       "<Figure size 640x480 with 1 Axes>"
      ]
     },
     "metadata": {},
     "output_type": "display_data"
    }
   ],
   "source": [
    "\n",
    "\n",
    "if __name__ == '__main__':\n",
    "    main()\n",
    "    "
   ]
  }
 ],
 "metadata": {
  "kernelspec": {
   "display_name": "python-fluid-python3-_nSsHetM",
   "language": "python",
   "name": "python3"
  },
  "language_info": {
   "codemirror_mode": {
    "name": "ipython",
    "version": 3
   },
   "file_extension": ".py",
   "mimetype": "text/x-python",
   "name": "python",
   "nbconvert_exporter": "python",
   "pygments_lexer": "ipython3",
   "version": "3.10.2"
  },
  "orig_nbformat": 4,
  "vscode": {
   "interpreter": {
    "hash": "4c7e84feb875d0a630bed22fa394cb9e9d77c800863796b67237a2f1657097b0"
   }
  }
 },
 "nbformat": 4,
 "nbformat_minor": 2
}
