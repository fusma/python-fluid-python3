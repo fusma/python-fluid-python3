{
 "cells": [
  {
   "cell_type": "code",
   "execution_count": 25,
   "metadata": {},
   "outputs": [],
   "source": [
    "import sys\n",
    "import os\n",
    "import cv2\n",
    "import glob"
   ]
  },
  {
   "cell_type": "code",
   "execution_count": 18,
   "metadata": {},
   "outputs": [],
   "source": [
    "foldername = \"six\"\n",
    "folderpath = f\"res/{foldername}\"\n",
    "#フォルダが存在しなければエラー吐いて終了\n",
    "if not os.path.exists(folderpath):\n",
    "    print(\"folder not found\")\n",
    "    sys.exit()\n",
    "\n",
    "#フォルダ中の連番画像ファイルをつなげて動画にする\n",
    "#ファイル名はdens%03d.pngの形式であること\n",
    "\n",
    "#動画の保存先\n",
    "moviepath = folderpath + \".mp4\"\n",
    "\n",
    "#画像の読み込み\n",
    "img_array = []\n",
    "for filename in glob.glob(folderpath+ \"\\dens*.png\"):\n",
    "    img = cv2.imread(filename)\n",
    "    height, width, layers = img.shape\n",
    "    size = (width,height)\n",
    "    img_array.append(img)\n",
    "\n",
    "#動画の書き出し\n",
    "out = cv2.VideoWriter(moviepath,cv2.VideoWriter_fourcc(*'DIVX'), 15, size)\n",
    "for i in range(len(img_array)):\n",
    "    out.write(img_array[i])\n",
    "out.release()\n"
   ]
  }
 ],
 "metadata": {
  "kernelspec": {
   "display_name": "soturon",
   "language": "python",
   "name": "python3"
  },
  "language_info": {
   "codemirror_mode": {
    "name": "ipython",
    "version": 3
   },
   "file_extension": ".py",
   "mimetype": "text/x-python",
   "name": "python",
   "nbconvert_exporter": "python",
   "pygments_lexer": "ipython3",
   "version": "3.10.2"
  },
  "orig_nbformat": 4,
  "vscode": {
   "interpreter": {
    "hash": "ee786c526721bbce9e63e1da4cfab52b3e2151d0cb70578f4f93324897d70c1c"
   }
  }
 },
 "nbformat": 4,
 "nbformat_minor": 2
}
