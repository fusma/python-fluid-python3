{
 "cells": [
  {
   "cell_type": "code",
   "execution_count": 2,
   "metadata": {},
   "outputs": [
    {
     "ename": "ModuleNotFoundError",
     "evalue": "No module named 'tensorflow'",
     "output_type": "error",
     "traceback": [
      "\u001b[1;31m---------------------------------------------------------------------------\u001b[0m",
      "\u001b[1;31mModuleNotFoundError\u001b[0m                       Traceback (most recent call last)",
      "Cell \u001b[1;32mIn[2], line 1\u001b[0m\n\u001b[1;32m----> 1\u001b[0m \u001b[39mimport\u001b[39;00m \u001b[39mtensorflow\u001b[39;00m \u001b[39mas\u001b[39;00m \u001b[39mtf\u001b[39;00m\n\u001b[0;32m      2\u001b[0m \u001b[39mimport\u001b[39;00m \u001b[39mpandas\u001b[39;00m \u001b[39mas\u001b[39;00m \u001b[39mpd\u001b[39;00m\n\u001b[0;32m      3\u001b[0m \u001b[39mimport\u001b[39;00m \u001b[39mnumpy\u001b[39;00m \u001b[39mas\u001b[39;00m \u001b[39mnp\u001b[39;00m\n",
      "\u001b[1;31mModuleNotFoundError\u001b[0m: No module named 'tensorflow'"
     ]
    }
   ],
   "source": [
    "import tensorflow as tf\n",
    "import pandas as pd\n",
    "import numpy as np\n",
    "import matplotlib.pyplot as plt"
   ]
  },
  {
   "cell_type": "code",
   "execution_count": null,
   "metadata": {},
   "outputs": [
    {
     "ename": "",
     "evalue": "",
     "output_type": "error",
     "traceback": [
      "\u001b[1;31m'c:\\Users\\Dette\\AppData\\Local\\Programs\\Python\\Python311\\python.exe' を使用した実行中のセルには ipykernel パッケージが必要です。\n",
      "\u001b[1;31m次のコマンドを実行して、'ipykernel' を Python 環境にインストールします。\n",
      "\u001b[1;31mコマンド: 'c:/Users/Dette/AppData/Local/Programs/Python/Python311/python.exe -m pip install ipykernel -U --user --force-reinstall'"
     ]
    }
   ],
   "source": [
    "#test.csvの9列目以降のデータから，8列目までのデータを予測する\n",
    "#dataframeで読み込み\n",
    "df = pd.read_csv('test3.csv', header=0,)\n",
    "\n",
    "#dataframeをnumpy配列に変換\n",
    "data = df.values\n",
    "\n",
    "#深層学習の入力データと出力データに分ける\n",
    "# 入力データ\n",
    "\n",
    "len_test = 8\n",
    "x = data[:, len_test+1:]\n",
    "print(x[0])\n",
    "\n",
    "# 出力データ\n",
    "y = data[:, 1:len_test+1]\n",
    "print(y[0])\n",
    "#入力データの正規化\n",
    "x = (x - x.mean()) / x.std()\n",
    "\n",
    "#出力データの正規化\n",
    "#y = (y - y.mean()) / y.std()\n",
    "\n",
    "#入力データの次元数\n",
    "input_dim = x.shape[1]\n",
    "\n",
    "#出力データの次元数\n",
    "output_dim = y.shape[1]\n",
    "\n",
    "#入力データの数\n",
    "n = x.shape[0]\n",
    "print(n)\n",
    "\n",
    "#学習データとテストデータに分ける\n",
    "#学習データ\n",
    "x_train = x[:int(n*0.8)]\n",
    "y_train = y[:int(n*0.8)]\n",
    "\n",
    "#テストデータ\n",
    "x_test = x[int(n*0.8):]\n",
    "y_test = y[int(n*0.8):]\n",
    "\n",
    "#モデルの定義\n",
    "model = tf.keras.models.Sequential([\n",
    "    tf.keras.layers.Dense(256, activation='relu', input_shape=(input_dim,)),\n",
    "    # ドロップアウト\n",
    " #   tf.keras.layers.Dropout(0.2),\n",
    "    tf.keras.layers.Dense(512, activation='relu', input_shape=(input_dim,)),\n",
    "    #ドロップアウト\n",
    "   # tf.keras.layers.Dropout(0.2),\n",
    "    tf.keras.layers.Dense(256, activation='relu'),\n",
    "   # tf.keras.layers.Dropout(0.2),\n",
    "    tf.keras.layers.Dense(output_dim)\n",
    "])\n",
    "\n",
    "#モデルのコンパイル\n",
    "model.compile(optimizer='adam',\n",
    "                loss='mse',\n",
    "                metrics=['mse'])\n",
    "\n",
    "#モデルの学習\n",
    "history = model.fit(x_train, y_train, epochs=1000, batch_size=32, validation_split=0.2)\n",
    "\n",
    "#学習の様子をグラフに描画\n",
    "#損失関数の値\n",
    "plt.plot(history.history['loss'], label='loss')\n",
    "plt.plot(history.history['val_loss'], label='val_loss')\n",
    "\n",
    "\n",
    "plt.xlabel('Epoch')\n",
    "plt.ylabel('Error [MPG]')\n",
    "\n",
    "plt.legend()\n",
    "plt.grid(True)\n",
    "\n",
    "#表示\n",
    "plt.show()\n"
   ]
  },
  {
   "cell_type": "code",
   "execution_count": null,
   "metadata": {},
   "outputs": [
    {
     "ename": "",
     "evalue": "",
     "output_type": "error",
     "traceback": [
      "\u001b[1;31m'c:\\Users\\Dette\\AppData\\Local\\Programs\\Python\\Python311\\python.exe' を使用した実行中のセルには ipykernel パッケージが必要です。\n",
      "\u001b[1;31m次のコマンドを実行して、'ipykernel' を Python 環境にインストールします。\n",
      "\u001b[1;31mコマンド: 'c:/Users/Dette/AppData/Local/Programs/Python/Python311/python.exe -m pip install ipykernel -U --user --force-reinstall'"
     ]
    }
   ],
   "source": [
    "# ハイパーパラメータチューニング\n",
    "\n",
    "import optuna\n",
    "\n",
    "def objective(trial):\n",
    "    # ハイパーパラメータの探索範囲を定義\n",
    "    n_layers = trial.suggest_int('n_layers', 1, 3)\n",
    "    layers = []\n",
    "    for i in range(n_layers):\n",
    "        n_units = trial.suggest_int('n_units_l{}'.format(i), 4, 128)\n",
    "        layers.append(tf.keras.layers.Dense(n_units, activation='relu'))\n",
    "    layers.append(tf.keras.layers.Dense(output_dim))\n",
    "\n",
    "    model = tf.keras.models.Sequential(layers)\n",
    "\n",
    "    model.compile(optimizer='adam',\n",
    "                loss='mse',\n",
    "                metrics=['mae'])\n",
    "\n",
    "    history = model.fit(x_train, y_train, epochs=10000, batch_size=32, validation_split=0.2, verbose=0)\n",
    "\n",
    "    return history.history['val_loss'][-1]"
   ]
  },
  {
   "cell_type": "code",
   "execution_count": null,
   "metadata": {},
   "outputs": [
    {
     "ename": "",
     "evalue": "",
     "output_type": "error",
     "traceback": [
      "\u001b[1;31m'c:\\Users\\Dette\\AppData\\Local\\Programs\\Python\\Python311\\python.exe' を使用した実行中のセルには ipykernel パッケージが必要です。\n",
      "\u001b[1;31m次のコマンドを実行して、'ipykernel' を Python 環境にインストールします。\n",
      "\u001b[1;31mコマンド: 'c:/Users/Dette/AppData/Local/Programs/Python/Python311/python.exe -m pip install ipykernel -U --user --force-reinstall'"
     ]
    }
   ],
   "source": [
    "#1行目の値を実際に計算\n",
    "print(model.predict(x_test[:1]))\n",
    "#実際の値\n",
    "print(y_test[:1])"
   ]
  }
 ],
 "metadata": {
  "kernelspec": {
   "display_name": "Python 3",
   "language": "python",
   "name": "python3"
  },
  "language_info": {
   "codemirror_mode": {
    "name": "ipython",
    "version": 3
   },
   "file_extension": ".py",
   "mimetype": "text/x-python",
   "name": "python",
   "nbconvert_exporter": "python",
   "pygments_lexer": "ipython3",
   "version": "3.11.0"
  },
  "orig_nbformat": 4,
  "vscode": {
   "interpreter": {
    "hash": "21a846c6257e44c2b66380280bb0227e1f93b8d56f5c0cea607ea617fe753f5f"
   }
  }
 },
 "nbformat": 4,
 "nbformat_minor": 2
}
